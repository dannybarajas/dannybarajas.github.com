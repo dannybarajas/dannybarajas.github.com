{
  "nbformat": 4,
  "nbformat_minor": 0,
  "metadata": {
    "colab": {
      "name": "Intial_Configuration.ipynb",
      "provenance": [],
      "collapsed_sections": [],
      "mount_file_id": "1fe3k2V7koYePzCK_vWq5XWo57Sh713aU",
      "authorship_tag": "ABX9TyO+/XaV1GDPqbBAZWL+G/a9",
      "include_colab_link": true
    },
    "kernelspec": {
      "name": "python3",
      "display_name": "Python 3"
    }
  },
  "cells": [
    {
      "cell_type": "markdown",
      "metadata": {
        "id": "view-in-github",
        "colab_type": "text"
      },
      "source": [
        "<a href=\"https://colab.research.google.com/github/dannybarajas/dannybarajas.github.com/blob/master/Initial_Configuration.ipynb\" target=\"_parent\"><img src=\"https://colab.research.google.com/assets/colab-badge.svg\" alt=\"Open In Colab\"/></a>"
      ]
    },
    {
      "cell_type": "code",
      "metadata": {
        "id": "2LVl2GsHnMNG",
        "colab_type": "code",
        "colab": {
          "base_uri": "https://localhost:8080/",
          "height": 340
        },
        "outputId": "1526cfab-1189-4083-a53a-edab2a293c0c"
      },
      "source": [
        "!apt-get install tree"
      ],
      "execution_count": 1,
      "outputs": [
        {
          "output_type": "stream",
          "text": [
            "Reading package lists... Done\n",
            "Building dependency tree       \n",
            "Reading state information... Done\n",
            "The following package was automatically installed and is no longer required:\n",
            "  libnvidia-common-440\n",
            "Use 'apt autoremove' to remove it.\n",
            "The following NEW packages will be installed:\n",
            "  tree\n",
            "0 upgraded, 1 newly installed, 0 to remove and 39 not upgraded.\n",
            "Need to get 40.7 kB of archives.\n",
            "After this operation, 105 kB of additional disk space will be used.\n",
            "Get:1 http://archive.ubuntu.com/ubuntu bionic/universe amd64 tree amd64 1.7.0-5 [40.7 kB]\n",
            "Fetched 40.7 kB in 1s (42.9 kB/s)\n",
            "Selecting previously unselected package tree.\n",
            "(Reading database ... 144579 files and directories currently installed.)\n",
            "Preparing to unpack .../tree_1.7.0-5_amd64.deb ...\n",
            "Unpacking tree (1.7.0-5) ...\n",
            "Setting up tree (1.7.0-5) ...\n",
            "Processing triggers for man-db (2.8.3-2ubuntu0.1) ...\n"
          ],
          "name": "stdout"
        }
      ]
    },
    {
      "cell_type": "code",
      "metadata": {
        "id": "zfutv5X1ns98",
        "colab_type": "code",
        "colab": {
          "base_uri": "https://localhost:8080/",
          "height": 68
        },
        "outputId": "b77d92a8-223d-4b68-8c86-350866e04ef3"
      },
      "source": [
        "!tree ~"
      ],
      "execution_count": 2,
      "outputs": [
        {
          "output_type": "stream",
          "text": [
            "/root\n",
            "\n",
            "0 directories, 0 files\n"
          ],
          "name": "stdout"
        }
      ]
    },
    {
      "cell_type": "code",
      "metadata": {
        "id": "Mt8vVmJonyPn",
        "colab_type": "code",
        "colab": {}
      },
      "source": [
        "# Directory configuration\n",
        "%mkdir -p \"/content/drive/My Drive/DataScienceSG/config/.ssh\""
      ],
      "execution_count": 3,
      "outputs": []
    },
    {
      "cell_type": "code",
      "metadata": {
        "id": "gILiCUmSn5MA",
        "colab_type": "code",
        "colab": {
          "base_uri": "https://localhost:8080/",
          "height": 34
        },
        "outputId": "beb0388e-a97c-4697-be41-b41d10d269df"
      },
      "source": [
        "# Change to your directory\n",
        "%cd \"/content/drive/My Drive/DataScienceSG/config/.ssh\""
      ],
      "execution_count": 5,
      "outputs": [
        {
          "output_type": "stream",
          "text": [
            "/content/drive/My Drive/DataScienceSG/config/.ssh\n"
          ],
          "name": "stdout"
        }
      ]
    },
    {
      "cell_type": "code",
      "metadata": {
        "id": "_xGFbl_jn7-y",
        "colab_type": "code",
        "colab": {
          "base_uri": "https://localhost:8080/",
          "height": 357
        },
        "outputId": "c097d107-bf27-4fbc-de88-e49b687e680f"
      },
      "source": [
        "# Create key in: /content/drive/My Drive/DataScienceSG/config/.ssh/id_rsa\n",
        "# The others fields mantain it empty\n",
        "!ssh-keygen -o -t rsa -b 4096 -C \"Colab Machine\""
      ],
      "execution_count": 6,
      "outputs": [
        {
          "output_type": "stream",
          "text": [
            "Generating public/private rsa key pair.\n",
            "Enter file in which to save the key (/root/.ssh/id_rsa): /content/drive/My Drive/DataScienceSG/config/.ssh/id_rsa\n",
            "Enter passphrase (empty for no passphrase): \n",
            "Enter same passphrase again: \n",
            "Your identification has been saved in /content/drive/My Drive/DataScienceSG/config/.ssh/id_rsa.\n",
            "Your public key has been saved in /content/drive/My Drive/DataScienceSG/config/.ssh/id_rsa.pub.\n",
            "The key fingerprint is:\n",
            "SHA256:ccw8YSDnwtqJkZRIEGhJx2ep1x5X5YSHtWCZb8Q6i1U Colab Machine\n",
            "The key's randomart image is:\n",
            "+---[RSA 4096]----+\n",
            "|==+o..o o.ooO+   |\n",
            "|.ooo.* + =.B+E.  |\n",
            "|.   * + o B *o   |\n",
            "|   . * = + = o   |\n",
            "|    + + S o +    |\n",
            "|       . . .     |\n",
            "|                 |\n",
            "|                 |\n",
            "|                 |\n",
            "+----[SHA256]-----+\n"
          ],
          "name": "stdout"
        }
      ]
    },
    {
      "cell_type": "code",
      "metadata": {
        "id": "kQaU6OB7oLym",
        "colab_type": "code",
        "colab": {
          "base_uri": "https://localhost:8080/",
          "height": 34
        },
        "outputId": "756e384c-0b3d-47cb-a389-f57e62f89c55"
      },
      "source": [
        "! eval $(ssh-agent -s)"
      ],
      "execution_count": 7,
      "outputs": [
        {
          "output_type": "stream",
          "text": [
            "Agent pid 475\n"
          ],
          "name": "stdout"
        }
      ]
    },
    {
      "cell_type": "code",
      "metadata": {
        "id": "dP8OUjWGoQjE",
        "colab_type": "code",
        "colab": {
          "base_uri": "https://localhost:8080/",
          "height": 68
        },
        "outputId": "bd3f2cc2-4171-48bc-f8c0-a6f3b9ebc29f"
      },
      "source": [
        "%mkdir ~/.ssh/\n",
        "!touch /root/.ssh/known_hosts\n",
        "!ssh-keyscan github.com >> /root/.ssh/known_hosts\n",
        "!chmod 664 /root/.ssh/known_hosts"
      ],
      "execution_count": 8,
      "outputs": [
        {
          "output_type": "stream",
          "text": [
            "# github.com:22 SSH-2.0-babeld-c2ee9279\n",
            "# github.com:22 SSH-2.0-babeld-c2ee9279\n",
            "# github.com:22 SSH-2.0-babeld-c2ee9279\n"
          ],
          "name": "stdout"
        }
      ]
    },
    {
      "cell_type": "code",
      "metadata": {
        "id": "ekXfeW8boWTV",
        "colab_type": "code",
        "colab": {}
      },
      "source": [
        "%cp '/content/drive/My Drive/DataScienceSG/config/.ssh/id_rsa' ~/.ssh/"
      ],
      "execution_count": null,
      "outputs": []
    },
    {
      "cell_type": "code",
      "metadata": {
        "id": "zlTWZOFypGxW",
        "colab_type": "code",
        "colab": {
          "base_uri": "https://localhost:8080/",
          "height": 119
        },
        "outputId": "1e9a548b-f0d4-4338-d6b2-119e80271621"
      },
      "source": [
        "# Execute this cell, wait a black box and write: \n",
        "#### ssh-add ~/.ssh/id_rsa\n",
        "#### exit\n",
        "!ssh-agent /bin/bash"
      ],
      "execution_count": 9,
      "outputs": [
        {
          "output_type": "stream",
          "text": [
            "bash: cannot set terminal process group (103): Inappropriate ioctl for device\n",
            "bash: no job control in this shell\n",
            "ssh/id_rsa\n",
            "/root/.ssh/id_rsa: No such file or directory\n",
            "\u001b]0;root@c4fa774b31a8: /content/drive/My Drive/DataScienceSG/config/.ssh\u0007\u001b[01;32mroot@c4fa774b31a8\u001b[00m:\u001b[01;34m/content/drive/My Drive/DataScienceSG/config/.ssh\u001b[00m# exit\n",
            "exit\n"
          ],
          "name": "stdout"
        }
      ]
    },
    {
      "cell_type": "code",
      "metadata": {
        "id": "1wwFnB81pMvB",
        "colab_type": "code",
        "colab": {
          "base_uri": "https://localhost:8080/",
          "height": 54
        },
        "outputId": "f0d8eaa0-a912-44f9-a972-e16fc612a801"
      },
      "source": [
        "# Copy public key and add to github\n",
        "!cat '/content/drive/My Drive/DataScienceSG/config/.ssh/id_rsa.pub'"
      ],
      "execution_count": 10,
      "outputs": [
        {
          "output_type": "stream",
          "text": [
            "ssh-rsa AAAAB3NzaC1yc2EAAAADAQABAAACAQC72uoZ8BJFZFofugo4DeGejvl/8+MK2qWhKpFl0A9hKVvKpPzqECdgU9hzORvEbKtnNWldOthCrrErSwMUxvws3iBL1MSRDTGZRaB6c/E2AeQMtkFZDxxaRUrIjAnCvDjKFTZhX28YWWEFm9KE0AvHdfAZJImWWfQuPMMnV9h3oYHLyt4FW43Hz0Q1ngDMMiRuOkxNJnSFy1tnhyFd3D0a0Akql0CnHZywi8ZO4q2Vsj1jLORWWZlkIZaJ1TEbDSeF5poYkfhSmlcdIZ/2193CQ3mMLs+vdcwJD85OOb3ZPVs485LsV5wyTp+89c/baIzSOzgvGYVgc+gacwV8cvyq4BUZGaHorjn2SNrhrSiCC/ZkFABkCzGZbIMmGHb1KIP7EpVjXlxSE3SKXRCYutkuVaDue1QGJ6W4HPoyOB3HWQPrTivMr2dh2qDhTSAUZBKKAXH3o8nSXQ7b408e/YPPwKhCZ41NRb/bqAU9RtMks8Z2UWvDW3pcmaid3hElc2i9SKgwRxIGk/8DsNTOE62FBWVQ6X+l2ddk2L9KDsCUMjVEIJ7kTW6pPqmiudkzbd+2572uWGcXLDPvHPZ5l7jH82zfn0V07tNNToMrXnrYo2Hl/u3lgppg0swDZcRqjhjp3FzeAKOVNLtL4WUKA8TCWMmLtExGqK7yk3UnY8Fxiw== Colab Machine\n"
          ],
          "name": "stdout"
        }
      ]
    },
    {
      "cell_type": "code",
      "metadata": {
        "id": "pNY8MoPcpcNI",
        "colab_type": "code",
        "colab": {}
      },
      "source": [
        "! git config --global user.name \"dannybarajas\"\n",
        "! git config --global user.email \"dbarajasm93@gmail.com\""
      ],
      "execution_count": 11,
      "outputs": []
    },
    {
      "cell_type": "code",
      "metadata": {
        "id": "Bo43h3JUpl31",
        "colab_type": "code",
        "colab": {
          "base_uri": "https://localhost:8080/",
          "height": 51
        },
        "outputId": "69d4ba83-a328-4748-b3b5-e8c171b87522"
      },
      "source": [
        "! git config --global user.name\n",
        "! git config --global user.email"
      ],
      "execution_count": 12,
      "outputs": [
        {
          "output_type": "stream",
          "text": [
            "dannybarajas\n",
            "dbarajasm93@gmail.com\n"
          ],
          "name": "stdout"
        }
      ]
    },
    {
      "cell_type": "code",
      "metadata": {
        "id": "nbuJq_r9pxz0",
        "colab_type": "code",
        "colab": {
          "base_uri": "https://localhost:8080/",
          "height": 51
        },
        "outputId": "8165fb45-29de-41db-d0c1-58ff5d7dbdde"
      },
      "source": [
        "# If wants to made debug, add v after T\n",
        "! ssh -T git@github.com"
      ],
      "execution_count": 13,
      "outputs": [
        {
          "output_type": "stream",
          "text": [
            "Warning: Permanently added the RSA host key for IP address '140.82.112.3' to the list of known hosts.\n",
            "git@github.com: Permission denied (publickey).\n"
          ],
          "name": "stdout"
        }
      ]
    },
    {
      "cell_type": "code",
      "metadata": {
        "id": "-SYNvdnNvuP1",
        "colab_type": "code",
        "colab": {
          "base_uri": "https://localhost:8080/",
          "height": 34
        },
        "outputId": "78269a4b-bade-4e65-b593-eb332175c603"
      },
      "source": [
        "!git show"
      ],
      "execution_count": null,
      "outputs": [
        {
          "output_type": "stream",
          "text": [
            "fatal: not a git repository (or any of the parent directories): .git\n"
          ],
          "name": "stdout"
        }
      ]
    }
  ]
}